{
 "cells": [
  {
   "cell_type": "code",
   "execution_count": 7,
   "metadata": {},
   "outputs": [
    {
     "name": "stdout",
     "output_type": "stream",
     "text": [
      "AUC alpha\n",
      "0.841113841114 999.9999999999999\n",
      "0.864045864046 99.99999999999999\n",
      "0.907452907453 10.0\n",
      "0.9180999181 1.0\n",
      "0.882882882883 0.1\n",
      "0.861588861589 0.010000000000000002\n",
      "0.851760851761 0.0010000000000000002\n",
      "0.850941850942 0.00010000000000000002\n",
      "0.849303849304 1.0000000000000003e-05\n"
     ]
    },
    {
     "data": {
      "image/png": "[encoded data removed]",
      "text/plain": [
       "<matplotlib.figure.Figure at 0x1aae851f710>"
      ]
     },
     "metadata": {},
     "output_type": "display_data"
    }
   ],
   "source": [
    "from urllib.request import urlopen\n",
    "import numpy as np\n",
    "\n",
    "import pylab as pl\n",
    "from sklearn.linear_model import Ridge\n",
    "from sklearn.metrics import roc_curve, auc\n",
    "import matplotlib.pyplot as plt\n",
    "\n",
    "target_url = (\"https://archive.ics.uci.edu/ml/machine-learning-databases/undocumented/connectionist-bench/sonar/sonar.all-data\"\n",
    "             )\n",
    "data = urlopen(target_url)\n",
    "\n",
    "# divide the data into features and labels\n",
    "xList = []\n",
    "labels = []\n",
    "for line in data:\n",
    "    line = line.decode('utf-8')\n",
    "    row=line.strip().split(\",\")\n",
    "    #print(line)\n",
    "    #xList.append(row)\n",
    "    if row[-1] == 'M':\n",
    "        labels.append(1.0)\n",
    "    else:\n",
    "        labels.append(0.0)\n",
    "    row.pop()\n",
    "    floatrow = [float(num) for num in row]\n",
    "    xList.append(floatrow)\n",
    "#print(xList)\n",
    "\n",
    "# divide the dataset into trainning and testing\n",
    "indices = range(len(xList))\n",
    "xListTest = [xList[i] for i in indices if i%3 == 0]\n",
    "xListTrain = [xList[i] for i in indices if i%3 != 0]\n",
    "labelsTest = [labels[i] for i in indices if i%3 == 0]\n",
    "labelsTrain = [labels[i] for i in indices if i%3 != 0]\n",
    "\n",
    "xTrain = np.array(xListTrain)\n",
    "xTest = np.array(xListTest)\n",
    "yTrain = np.array(labelsTrain)\n",
    "yTest = np.array(labelsTest)\n",
    "\n",
    "aucList = []\n",
    "alphaList = [0.1**i for i in [-3,-2,-1,0,1,2,3,4,5]]\n",
    "for alph in alphaList:\n",
    "    rockVSMinesRidgeModel = Ridge(alpha = alph)\n",
    "    rockVSMinesRidgeModel.fit(xTrain,yTrain)\n",
    "    ypredictions = rockVSMinesRidgeModel.predict(xTest)\n",
    "    fpr,tpr,thresholds = roc_curve(yTest,ypredictions)\n",
    "    roc_auc = auc(fpr,tpr)\n",
    "    aucList.append(roc_auc)\n",
    "\n",
    "print(\"AUC alpha\")\n",
    "x = [-3,-2,-1,0,1,2,3,4,5]\n",
    "for i in range(len(alphaList)):\n",
    "    print(aucList[i],alphaList[i])\n",
    "plt.plot(x,aucList)\n",
    "plt.xlabel('-log(alpha)')\n",
    "plt.ylabel('AUC')\n",
    "plt.show()"
   ]
  },
  {
   "cell_type": "code",
   "execution_count": 10,
   "metadata": {},
   "outputs": [
    {
     "name": "stdout",
     "output_type": "stream",
     "text": [
      "3\n"
     ]
    },
    {
     "data": {
      "image/png": "[encoded data removed]",
      "text/plain": [
       "<matplotlib.figure.Figure at 0x1aae8040cf8>"
      ]
     },
     "metadata": {},
     "output_type": "display_data"
    }
   ],
   "source": [
    "# find the best alpha\n",
    "indexBest = aucList.index(max(aucList))\n",
    "print(indexBest)\n",
    "rockVSMinesRidgeModel = Ridge(alpha = alphaList[indexBest])\n",
    "rockVSMinesRidgeModel.fit(xTrain,yTrain)\n",
    "prediction=rockVSMinesRidgeModel.predict(xTest)\n",
    "plt.scatter(prediction,yTest)\n",
    "plt.xlabel('predicted label')\n",
    "plt.ylabel('actual label')\n",
    "plt.show()"
   ]
  },
  {
   "cell_type": "code",
   "execution_count": null,
   "metadata": {
    "collapsed": true
   },
   "outputs": [],
   "source": []
  }
 ],
 "metadata": {
  "kernelspec": {
   "display_name": "Python 3",
   "language": "python",
   "name": "python3"
  },
  "language_info": {
   "codemirror_mode": {
    "name": "ipython",
    "version": 3
   },
   "file_extension": ".py",
   "mimetype": "text/x-python",
   "name": "python",
   "nbconvert_exporter": "python",
   "pygments_lexer": "ipython3",
   "version": "3.6.1"
  }
 },
 "nbformat": 4,
 "nbformat_minor": 2
}
